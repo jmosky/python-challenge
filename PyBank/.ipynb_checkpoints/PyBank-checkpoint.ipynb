{
 "cells": [
  {
   "cell_type": "code",
   "execution_count": 10,
   "metadata": {},
   "outputs": [
    {
     "name": "stdout",
     "output_type": "stream",
     "text": [
      "Financial Analysis\n",
      "----------------------------\n",
      "Total Months: 86\n",
      "Total: $38382578\n",
      "Average Change: $-2315.12\n",
      "Greatest Increase in Profits: Feb-2012 ($1926159)\n",
      "Greatest Decrease in Profits: Sep-2013 ($-2196167)\n"
     ]
    }
   ],
   "source": [
    "# Import packages.\n",
    "import csv\n",
    "\n",
    "# Open dataset (csv).\n",
    "with open(\"Resources/budget_data.csv\", 'r') as f:\n",
    "    reader = csv.reader(f)\n",
    "    next(reader)\n",
    "    \n",
    "    # Initialize variables needed in loop.\n",
    "    counter = 0  # This allows me to skip the first row when summing differences.\n",
    "    total = 0 # This is for summing all profits/losses.\n",
    "    month_count = 0 # For counting months. \n",
    "    diff = 0 # For array of changes in profits/losses.\n",
    "    previous_amount = 0 # For calculating values to go in diff array.\n",
    "    max_diff = 0\n",
    "    min_diff = 0\n",
    "    max_month = ''\n",
    "    min_month = ''\n",
    "    newline = '\\n'\n",
    "    \n",
    "    for row in reader:\n",
    "        # Skip the first row, then start calculating the MoM change in profit/losses.\n",
    "        if counter != 0:\n",
    "            diff += int(row[1]) - int(previous_amount)\n",
    "        # If the calculated change is greater than the current max change, store it as the max change.\n",
    "        if int(row[1]) - int(previous_amount) > max_diff:\n",
    "            max_diff = int(row[1]) - int(previous_amount)\n",
    "            max_month = row[0]\n",
    "        # If the calculated change is less than the current min change, store it as the min change.\n",
    "        if int(row[1]) - int(previous_amount) < min_diff:\n",
    "            min_diff = int(row[1]) - int(previous_amount)\n",
    "            min_month = row[0]\n",
    "        # Set the current row's profit/losses as the value to compare the next row's profit/losses to.\n",
    "        previous_amount = row[1]\n",
    "        # Sum all profit/losses as we loop through each row.\n",
    "        total += int(row[1])\n",
    "        # Count how many rows there are so we know the month count.\n",
    "        month_count += 1\n",
    "        # This is used in the first line in order to skip calculating a difference in profit/losses for the first row.\n",
    "        counter += 1\n",
    "        \n",
    "    avg_change = \"$%.2f\" % float(diff /(month_count-1))\n",
    "        \n",
    "    text = f'Financial Analysis{newline}----------------------------{newline}Total Months: {month_count}{newline}Total: ${total}{newline}Average Change: {avg_change}{newline}Greatest Increase in Profits: {max_month} (${max_diff}){newline}Greatest Decrease in Profits: {min_month} (${min_diff})'\n",
    "    \n",
    "    f = open('output.txt', 'w')\n",
    "    f.write(text)\n",
    "    f.close()\n",
    "    print(text)"
   ]
  },
  {
   "cell_type": "code",
   "execution_count": null,
   "metadata": {},
   "outputs": [],
   "source": []
  }
 ],
 "metadata": {
  "kernelspec": {
   "display_name": "Python 3",
   "language": "python",
   "name": "python3"
  },
  "language_info": {
   "codemirror_mode": {
    "name": "ipython",
    "version": 3
   },
   "file_extension": ".py",
   "mimetype": "text/x-python",
   "name": "python",
   "nbconvert_exporter": "python",
   "pygments_lexer": "ipython3",
   "version": "3.6.5"
  }
 },
 "nbformat": 4,
 "nbformat_minor": 2
}
