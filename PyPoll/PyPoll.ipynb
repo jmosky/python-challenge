{
 "cells": [
  {
   "cell_type": "code",
   "execution_count": 20,
   "metadata": {},
   "outputs": [
    {
     "name": "stdout",
     "output_type": "stream",
     "text": [
      "Election Results\n",
      "-------------------------\n",
      "Total Votes: 3521001\n",
      "-------------------------\n",
      "Khan: 63.000% (2218231)\n",
      "Correy: 20.000% (704200)\n",
      "Li: 14.000% (492940)\n",
      "O'Tooley: 3.000% (105630)\n",
      "-------------------------\n",
      "Winner: Khan\n",
      "-------------------------\n"
     ]
    }
   ],
   "source": [
    "import csv\n",
    "\n",
    "# Open dataset (csv).\n",
    "with open(\"Resources/election_data.csv\", 'r') as f:\n",
    "    reader = csv.reader(f)\n",
    "    next(reader)\n",
    "\n",
    "    counter = 0\n",
    "    khan = 0\n",
    "    correy = 0\n",
    "    li = 0\n",
    "    otooley = 0\n",
    "    error_votes = 0\n",
    "    winner = ''\n",
    "    newline = '\\n'\n",
    "    \n",
    "    for row in reader:\n",
    "        # Counts total votes. Assumes no duplicates. (?)\n",
    "        counter += 1\n",
    "        if row[2] == \"Khan\":\n",
    "            khan += 1\n",
    "        elif row[2] == \"Correy\":\n",
    "            correy += 1\n",
    "        elif row[2] == \"Li\":\n",
    "            li += 1\n",
    "        elif row[2] == \"O'Tooley\":\n",
    "            otooley += 1\n",
    "        # Confirmed there are no error votes so can delete this.\n",
    "        else: \n",
    "            error_votes += 1\n",
    "        \n",
    "        if khan > correy:\n",
    "            winner = \"Khan\"\n",
    "        elif correy > li:\n",
    "            winner = \"Correy\"\n",
    "        elif li > otooley:\n",
    "            winner = \"Li\"\n",
    "        else:\n",
    "            winner = \"O'Tooley\"\n",
    "            \n",
    "    khan_pct = '{:.3%}'.format(float(khan/counter))\n",
    "    correy_pct = '{:.3%}'.format(float(correy/counter))\n",
    "    li_pct = '{:.3%}'.format(float(li/counter))\n",
    "    otooley_pct ='{:.3%}'.format(float(otooley/counter))\n",
    "\n",
    "    text = f'Election Results{newline}-------------------------{newline}Total Votes: {counter}{newline}-------------------------{newline}Khan: {khan_pct} ({khan}){newline}Correy: {correy_pct} ({correy}){newline}Li: {li_pct} ({li}){newline}O\\'Tooley: {otooley_pct} ({otooley}){newline}-------------------------{newline}Winner: {winner}{newline}-------------------------'\n",
    "    f = open('output.txt', 'w')\n",
    "    f.write(text)\n",
    "    f.close()\n",
    "    \n",
    "    print(text)"
   ]
  },
  {
   "cell_type": "code",
   "execution_count": null,
   "metadata": {},
   "outputs": [],
   "source": []
  },
  {
   "cell_type": "code",
   "execution_count": null,
   "metadata": {},
   "outputs": [],
   "source": []
  }
 ],
 "metadata": {
  "kernelspec": {
   "display_name": "Python 3",
   "language": "python",
   "name": "python3"
  },
  "language_info": {
   "codemirror_mode": {
    "name": "ipython",
    "version": 3
   },
   "file_extension": ".py",
   "mimetype": "text/x-python",
   "name": "python",
   "nbconvert_exporter": "python",
   "pygments_lexer": "ipython3",
   "version": "3.6.5"
  }
 },
 "nbformat": 4,
 "nbformat_minor": 2
}
